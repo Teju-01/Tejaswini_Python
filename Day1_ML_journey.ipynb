{
  "nbformat": 4,
  "nbformat_minor": 0,
  "metadata": {
    "colab": {
      "provenance": []
    },
    "kernelspec": {
      "name": "python3",
      "display_name": "Python 3"
    },
    "language_info": {
      "name": "python"
    }
  },
  "cells": [
    {
      "cell_type": "code",
      "execution_count": null,
      "metadata": {
        "colab": {
          "base_uri": "https://localhost:8080/"
        },
        "id": "HpmbKqI7jltH",
        "outputId": "0ec1bf68-5f68-4ec7-f746-ea081ec8cab5"
      },
      "outputs": [
        {
          "output_type": "stream",
          "name": "stdout",
          "text": [
            "hello world\n"
          ]
        }
      ],
      "source": [
        "print(\"hello world\")"
      ]
    },
    {
      "cell_type": "code",
      "source": [
        "print(\"Tejaswini\")"
      ],
      "metadata": {
        "id": "34ZbDQBAxLWX",
        "colab": {
          "base_uri": "https://localhost:8080/"
        },
        "outputId": "7a4bd1e5-f24a-4279-fe07-420f036584fd"
      },
      "execution_count": null,
      "outputs": [
        {
          "output_type": "stream",
          "name": "stdout",
          "text": [
            "Tejaswini\n"
          ]
        }
      ]
    },
    {
      "cell_type": "code",
      "source": [
        "print(\"Welcome\")"
      ],
      "metadata": {
        "id": "I1HD_aBN8OSs",
        "outputId": "7e289e0c-c097-489b-878b-5b554ca968cd",
        "colab": {
          "base_uri": "https://localhost:8080/"
        }
      },
      "execution_count": null,
      "outputs": [
        {
          "output_type": "stream",
          "name": "stdout",
          "text": [
            "Welcome\n"
          ]
        }
      ]
    },
    {
      "cell_type": "code",
      "source": [
        "print(\"Tejaswini's Python Class\")"
      ],
      "metadata": {
        "colab": {
          "base_uri": "https://localhost:8080/"
        },
        "id": "kDMFaK1u7qe2",
        "outputId": "127d1956-f579-4584-8ec1-ee272eeaebb9"
      },
      "execution_count": null,
      "outputs": [
        {
          "output_type": "stream",
          "name": "stdout",
          "text": [
            "Tejaswini's Python Class\n"
          ]
        }
      ]
    },
    {
      "cell_type": "code",
      "source": [
        "a:int = 'Ntt'\n",
        "print(type(a))\n",
        "print(__annotations__['a'])"
      ],
      "metadata": {
        "id": "0BR_ZsPTV5lJ",
        "outputId": "9df123bb-c989-4ac4-848b-88354d141bca",
        "colab": {
          "base_uri": "https://localhost:8080/"
        }
      },
      "execution_count": null,
      "outputs": [
        {
          "output_type": "stream",
          "name": "stdout",
          "text": [
            "<class 'str'>\n",
            "<class 'int'>\n"
          ]
        }
      ]
    },
    {
      "cell_type": "code",
      "source": [
        "# variable annotation\n",
        "\n",
        "aa: int = 10\n",
        "print(aa)\n",
        "\n",
        "print(__annotations__['aa'])\n",
        "print(type(aa))"
      ],
      "metadata": {
        "id": "hxwWPhUpXcTV",
        "outputId": "fb4914fd-2c1b-4004-dff4-bc8430564e47",
        "colab": {
          "base_uri": "https://localhost:8080/"
        }
      },
      "execution_count": null,
      "outputs": [
        {
          "output_type": "stream",
          "name": "stdout",
          "text": [
            "10\n",
            "<class 'int'>\n",
            "<class 'int'>\n"
          ]
        }
      ]
    },
    {
      "cell_type": "code",
      "source": [
        "s = \"Banglore\"\n",
        "print(s[3:0:-1])"
      ],
      "metadata": {
        "colab": {
          "base_uri": "https://localhost:8080/"
        },
        "id": "c5WU7xUP4hzA",
        "outputId": "9ffd85d9-c086-46c1-9994-353e75607626"
      },
      "execution_count": 1,
      "outputs": [
        {
          "output_type": "stream",
          "name": "stdout",
          "text": [
            "gna\n"
          ]
        }
      ]
    },
    {
      "cell_type": "code",
      "source": [
        "s1 = \"Hello, World!\"\n",
        "print(s1[-5:2:-2])"
      ],
      "metadata": {
        "colab": {
          "base_uri": "https://localhost:8080/"
        },
        "id": "ancmryhT8ykN",
        "outputId": "4b27ba14-66c8-4e30-b408-34a496a9bd59"
      },
      "execution_count": 2,
      "outputs": [
        {
          "output_type": "stream",
          "name": "stdout",
          "text": [
            "o o\n"
          ]
        }
      ]
    },
    {
      "cell_type": "code",
      "source": [
        "a = input(\"Enter a number: \")  ## input only takes values as in strings.\n",
        "print(a)\n",
        "print(type(a))"
      ],
      "metadata": {
        "colab": {
          "base_uri": "https://localhost:8080/"
        },
        "id": "wUEO05CUCIcj",
        "outputId": "c5d10659-d7c2-4f59-dd0b-74a0742d144c"
      },
      "execution_count": 3,
      "outputs": [
        {
          "output_type": "stream",
          "name": "stdout",
          "text": [
            "Enter a number: 10\n",
            "10\n",
            "<class 'str'>\n"
          ]
        }
      ]
    },
    {
      "cell_type": "code",
      "source": [
        "a = int(input(\"Enter a number: \"))  ##type casting to int\n",
        "print(a)\n",
        "print(type(a))"
      ],
      "metadata": {
        "colab": {
          "base_uri": "https://localhost:8080/"
        },
        "id": "wJ1Ht1hCCPwa",
        "outputId": "b6fd4fb6-f636-409e-f61c-288317ea211d"
      },
      "execution_count": 4,
      "outputs": [
        {
          "output_type": "stream",
          "name": "stdout",
          "text": [
            "Enter a number: 10\n",
            "10\n",
            "<class 'int'>\n"
          ]
        }
      ]
    },
    {
      "cell_type": "code",
      "source": [
        "##if else statement\n",
        "a = input(\"Enter a number: \")\n",
        "b = input(\"Enter another number: \")\n",
        "\n",
        "if a>b:\n",
        "  print(\"a is greater\")\n",
        "  print(\"if block executed\")\n",
        "else:\n",
        "  print(\"b is greater\")\n",
        "  print(\"else block executed\")"
      ],
      "metadata": {
        "colab": {
          "base_uri": "https://localhost:8080/"
        },
        "id": "l7awowVSCot2",
        "outputId": "c80071cb-9b8c-4e88-f4c0-304340516a17"
      },
      "execution_count": 7,
      "outputs": [
        {
          "output_type": "stream",
          "name": "stdout",
          "text": [
            "Enter a number: 5\n",
            "Enter another number: 2\n",
            "a is greater\n",
            "if block executed\n"
          ]
        }
      ]
    },
    {
      "cell_type": "code",
      "source": [
        "#if else ladder\n",
        "\n",
        "s = input(\"Enter a color : \")\n",
        "\n",
        "if s == \"red\":\n",
        "  print(\"stop\")\n",
        "elif s == \"green\":\n",
        "  print(\"go\")\n",
        "elif s == \"orange\":\n",
        "  print(\"Get Ready\")\n",
        "else:\n",
        "  print(\"ivalid color\")"
      ],
      "metadata": {
        "colab": {
          "base_uri": "https://localhost:8080/"
        },
        "id": "LJ7zfNd_DXBG",
        "outputId": "c1bc206c-eead-4d78-d2b6-082a7b29f2f9"
      },
      "execution_count": 11,
      "outputs": [
        {
          "output_type": "stream",
          "name": "stdout",
          "text": [
            "Enter a color : red\n",
            "stop\n"
          ]
        }
      ]
    },
    {
      "cell_type": "code",
      "source": [
        "s1 = input(\"Enter a word : \")   #Palindrome function\n",
        "s1 = s1.lower()\n",
        "s2 = s1[::-1]\n",
        "if s2 == s1:\n",
        "  print(\"Entered word is a palidrome\")\n",
        "else:\n",
        "  print(\"Entered word is not a palidrome\")"
      ],
      "metadata": {
        "colab": {
          "base_uri": "https://localhost:8080/"
        },
        "id": "EWI3cFmxD4sv",
        "outputId": "7bce6603-09c4-4c01-ae5e-41c17a8ead18"
      },
      "execution_count": 17,
      "outputs": [
        {
          "output_type": "stream",
          "name": "stdout",
          "text": [
            "Enter a word : Malayalam\n",
            "Entered word is a palidrome\n"
          ]
        }
      ]
    },
    {
      "cell_type": "code",
      "source": [
        "num = int(input(\"Enter a number : \")) # multiplication table\n",
        "i = 1\n",
        "while(i<11):\n",
        "  num1 = i*num\n",
        "  print(num, \"*\", i, \"=\", num1)\n",
        "  i=i+1\n",
        "  print(num1)\n",
        "print(\"End of a table\")\n",
        "\n"
      ],
      "metadata": {
        "colab": {
          "base_uri": "https://localhost:8080/"
        },
        "id": "4U_SzWKgH7Vp",
        "outputId": "30a7953a-01e3-4a43-f932-814b02a5caa8"
      },
      "execution_count": 53,
      "outputs": [
        {
          "output_type": "stream",
          "name": "stdout",
          "text": [
            "Enter a number : 6\n",
            "6 * 1 = 6\n",
            "6\n",
            "6 * 2 = 12\n",
            "12\n",
            "6 * 3 = 18\n",
            "18\n",
            "6 * 4 = 24\n",
            "24\n",
            "6 * 5 = 30\n",
            "30\n",
            "6 * 6 = 36\n",
            "36\n",
            "6 * 7 = 42\n",
            "42\n",
            "6 * 8 = 48\n",
            "48\n",
            "6 * 9 = 54\n",
            "54\n",
            "6 * 10 = 60\n",
            "60\n",
            "End of a table\n"
          ]
        }
      ]
    }
  ]
}